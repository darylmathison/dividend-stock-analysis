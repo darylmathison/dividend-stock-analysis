{
 "cells": [
  {
   "metadata": {
    "ExecuteTime": {
     "end_time": "2024-12-15T02:32:18.461839Z",
     "start_time": "2024-12-15T02:32:17.591568Z"
    }
   },
   "cell_type": "code",
   "source": [
    "import yfinance as yf\n",
    "import pandas as pd\n",
    "import datetime as dt\n",
    "import matplotlib.pyplot as plt\n",
    "import os\n",
    "import requests\n",
    "import time\n",
    "import logging\n",
    "import pytz\n",
    "import datetime\n",
    "import dateutil.parser"
   ],
   "id": "c8cca0c341c0710c",
   "outputs": [],
   "execution_count": 1
  },
  {
   "metadata": {
    "ExecuteTime": {
     "end_time": "2024-12-15T02:32:18.489777Z",
     "start_time": "2024-12-15T02:32:18.472986Z"
    }
   },
   "cell_type": "code",
   "source": [
    "api_key = os.environ.get(\"POLYGON_API_KEY\")\n",
    "timezone = pytz.timezone(\"US/Eastern\")"
   ],
   "id": "759107841bea1b3a",
   "outputs": [],
   "execution_count": 2
  },
  {
   "metadata": {
    "ExecuteTime": {
     "end_time": "2024-12-15T02:32:18.552336Z",
     "start_time": "2024-12-15T02:32:18.550640Z"
    }
   },
   "cell_type": "code",
   "source": [
    "end = dt.datetime.now(timezone)\n",
    "start = dt.datetime(year=end.year - 10, month=end.month, day=end.day, tzinfo=timezone)"
   ],
   "id": "e6e81fece3c96abd",
   "outputs": [],
   "execution_count": 3
  },
  {
   "metadata": {},
   "cell_type": "markdown",
   "source": "# Busting the Gatekeepers (DIY Dividend Stock Analysis)",
   "id": "adfa78410da4d646"
  },
  {
   "metadata": {},
   "cell_type": "markdown",
   "source": "### Motivation in the Moment",
   "id": "1e927c21a0c5c241"
  },
  {
   "metadata": {},
   "cell_type": "markdown",
   "source": "Dividend stocks can be very profitable and can be used for when one is in a building mode or a sustaining mode.  They do need different tools to analyize them, however.",
   "id": "347af99ff0d39215"
  },
  {
   "metadata": {},
   "cell_type": "markdown",
   "source": "#### Building mode",
   "id": "8363985af2938cc"
  },
  {
   "metadata": {},
   "cell_type": "markdown",
   "source": "Building mode is when one is using the stock market to save and build wealth.  Dividend stocks can be used to build wealth with DRIP (Dividend ReInvestment Program) or manually.  I have tried both ways and I like DRIP becuase it is automatic and I don't have to think about it.  Manually reivestmenting dividends means one must be on top of the cash flow.  This works well if one has nothing to do but watch money earn money but I do not have that privaledge.  I prefer automation when it comes to mananging my wealth.",
   "id": "fe4aab0c74f8517b"
  },
  {
   "metadata": {},
   "cell_type": "markdown",
   "source": "#### Sustaning Mode",
   "id": "e50d46a168dc423e"
  },
  {
   "metadata": {},
   "cell_type": "markdown",
   "source": "This mode is for collecting cash from a wealth position.  In terms of dividend stocks, this means turning off DRIP and collect the cash when the dividends pay out.",
   "id": "567d4647d9a8033d"
  },
  {
   "metadata": {},
   "cell_type": "markdown",
   "source": "### Challenges of Analyzing Dividend Stocks",
   "id": "2bf63bbb33779850"
  },
  {
   "metadata": {},
   "cell_type": "markdown",
   "source": [
    "* Dividends are not all equal\n",
    "* Time counts in the market\n"
   ],
   "id": "f7456026b0b97817"
  },
  {
   "metadata": {},
   "cell_type": "markdown",
   "source": "#### Dividends are not all equal",
   "id": "a1a39351454ad33"
  },
  {
   "metadata": {},
   "cell_type": "markdown",
   "source": "This is best explained with an example.  Let's get some code out to do this for us.",
   "id": "904a99c9e040953d"
  },
  {
   "cell_type": "code",
   "id": "29be8100ceebe8e8",
   "metadata": {
    "ExecuteTime": {
     "end_time": "2024-12-15T02:32:18.563550Z",
     "start_time": "2024-12-15T02:32:18.561569Z"
    }
   },
   "source": [
    "symbol=\"ABR\"\n",
    "initial_cash = 10000"
   ],
   "outputs": [],
   "execution_count": 4
  },
  {
   "metadata": {},
   "cell_type": "markdown",
   "source": [
    "We will be using ABR as our example as it is a good example for this challenge and we will be starting with 10 thousand in cash as that is a normal analysis starting point.\n",
    "\n",
    "The below function goes out to Polygon and asks for ten years of dividend events for a given stock.  I have been using and improving this peice of code for at least two years now so it accounts for 80-90 percent of the issues that I have encountered."
   ],
   "id": "bb121604f7a347ea"
  },
  {
   "metadata": {
    "ExecuteTime": {
     "end_time": "2024-12-15T02:32:18.599293Z",
     "start_time": "2024-12-15T02:32:18.596494Z"
    }
   },
   "cell_type": "code",
   "source": [
    "def get_dividend_announcements(\n",
    "    symbol: str, start: datetime.date, end: datetime.date\n",
    ") -> list:\n",
    "    uri_template = \"https://api.polygon.io/v3/reference/dividends?ticker={symbol}&ex_dividend_date.gte={date}&limit=1000&order=asc&sort=ex_dividend_date&apiKey={apikey}\"\n",
    "\n",
    "    repeat = True\n",
    "    date = start.strftime(\"%Y-%m-%d\")\n",
    "    uri = uri_template.format(apikey=api_key, date=date, symbol=symbol)\n",
    "    last_date = start\n",
    "    events = []\n",
    "    while repeat and last_date <= end:\n",
    "        try:\n",
    "            r = requests.get(uri, timeout=(3, 10))\n",
    "            r.raise_for_status()\n",
    "            r = r.json()\n",
    "            if \"next_url\" in r:\n",
    "                uri = r[\"next_url\"] + \"&apiKey=\" + api_key\n",
    "                repeat = True\n",
    "            else:\n",
    "                repeat = False\n",
    "            if \"results\" in r:\n",
    "                if r[\"results\"]:\n",
    "                    last_date = dateutil.parser.parse(\n",
    "                        r[\"results\"][-1][\"ex_dividend_date\"]\n",
    "                    ).date()\n",
    "                    events.extend(r[\"results\"])\n",
    "                    logging.info(\n",
    "                        f\"size: {len(events)}, ex_dividend_date: {last_date}, symbol: {symbol}\"\n",
    "                    )\n",
    "\n",
    "        except requests.exceptions.HTTPError as err:\n",
    "            # This status code is singled out as it means my account has used up its alocated calls for the next minute.  This built in wait allows the function to gather anymore needed.\n",
    "            if r.status_code != 429:\n",
    "                logging.error(err)\n",
    "                raise err\n",
    "            logging.info(err)\n",
    "            time.sleep(60)\n",
    "            repeat = True\n",
    "        except Exception as e:\n",
    "            logging.error(repr(e))\n",
    "            repeat = False\n",
    "    return events"
   ],
   "id": "16af27dc596e17c7",
   "outputs": [],
   "execution_count": 5
  },
  {
   "metadata": {},
   "cell_type": "markdown",
   "source": "The `gather_dividends` function builds on top of the last function and creates a dataframe around the data.  This allows one to",
   "id": "d663982cb823081a"
  },
  {
   "metadata": {
    "ExecuteTime": {
     "end_time": "2024-12-15T02:32:18.809628Z",
     "start_time": "2024-12-15T02:32:18.619183Z"
    }
   },
   "cell_type": "code",
   "source": [
    "def gather_dividends(symbol, start, end):\n",
    "    dividend_events = get_dividend_announcements(symbol, start, end)\n",
    "    events = pd.DataFrame.from_records(\n",
    "        dividend_events, columns=dividend_events[0].keys()\n",
    "    )\n",
    "    # find outlier/special dividends.  Special dividends are like bonuses and cannot be counted on.  I remove them to get more of a pattern.\n",
    "    special_dividends = events[events[\"frequency\"] == 0].index\n",
    "    events = events.drop(special_dividends)\n",
    "    events[\"pay_date\"] = pd.to_datetime(events[\"pay_date\"])\n",
    "    events[\"pay_date\"] = events[\"pay_date\"].dt.tz_localize(timezone)\n",
    "    events = events.rename(columns={\"pay_date\": \"Date\", \"ticker\": \"Symbol\"})\n",
    "    events = events.set_index(\"Date\")\n",
    "    return events\n",
    "\n",
    "div_events = gather_dividends(symbol, start, end)"
   ],
   "id": "93ee4e2cdbe6f22f",
   "outputs": [],
   "execution_count": 6
  },
  {
   "metadata": {},
   "cell_type": "markdown",
   "source": "This just plots the dividend of the stock over the last ten years.  Nothing special here.",
   "id": "3f231e265652988"
  },
  {
   "cell_type": "code",
   "id": "d452775729371ef2",
   "metadata": {
    "ExecuteTime": {
     "end_time": "2024-12-15T02:32:18.912117Z",
     "start_time": "2024-12-15T02:32:18.812989Z"
    }
   },
   "source": [
    "plt.plot(div_events.index, div_events[\"cash_amount\"], label=\"Dividend per Share\")\n",
    "plt.title = f\"Dividend per share of {symbol}\"\n",
    "plt.legend()\n",
    "plt.show()"
   ],
   "outputs": [
    {
     "data": {
      "text/plain": [
       "<Figure size 640x480 with 1 Axes>"
      ],
      "image/png": "[encoded data removed]"
     },
     "metadata": {},
     "output_type": "display_data"
    }
   ],
   "execution_count": 7
  },
  {
   "metadata": {},
   "cell_type": "markdown",
   "source": "As one can see, the value of the dividend can vary a bit.  Here the value went up over the last ten years but 2018 was a rough year.  Most formulas for compounding interest do not account for variabilty.  This leads into the other challenge with dividend stocks.",
   "id": "a37d4b67bc474fd2"
  },
  {
   "metadata": {},
   "cell_type": "markdown",
   "source": "### Time Counts in the Market",
   "id": "70ca23c38cc4e6a6"
  },
  {
   "metadata": {},
   "cell_type": "markdown",
   "source": "There is an old saying, \"Time in the market, not timing the market\".  What that means is staying in the market long term is better than trying to find the perfect time to enter the market and leave the market.  The chart above is a peice of proof for this nugget of wisdom.  This breaks down when analying dividend stocks because of the time difference between the ex-dividend date and pay date.  The ex-dividend date is the date that one must own the stock by to get the dividend on the pay date.  The pay date is the day when the money is paid out.  This can be up to one month after the ex-dividend date.  Yahoo finance has the dividend amount on the ex-dividend date but does not have the pay date.   This is why I used the Polygon data service as it includes the pay date.  This is important because part of the magic of the stock market is that the returns are compounding and compounding returns are very time sensitive.",
   "id": "c47cb2c0f5902338"
  },
  {
   "metadata": {},
   "cell_type": "markdown",
   "source": "### Tools in the Wild",
   "id": "d00b95d1f2771127"
  },
  {
   "metadata": {},
   "cell_type": "markdown",
   "source": [
    "I have found that most specialized tools for the stock market cost some money unless one has a nice stockbrokerage.  One of the many websites one can go to is [Seeking Alpha](https://seekingalpha.com/).  I would like to think the website has basic dividend stock tools but most of the content of the website is behind a paywall.  To be fair, it looks like there is a lot of value behind that paywall.\n",
    "\n",
    "I like data and creating tools that store and messes with that data.  The concept that we will need to know about is **amortization**.  This is not new my any means so I am going to tackle it."
   ],
   "id": "e26c4f8e6564e272"
  },
  {
   "metadata": {},
   "cell_type": "markdown",
   "source": [
    "### Things to do first\n",
    " 1. Download source code\n",
    "2. Get a Polygon API_KEY at [Polygon.io](https://polygon.io/)\n",
    "3. Set the API KEY to the environment variable `POLYGON_API_KEY`\n",
    "4. Do the command `python -m venv ./.venv`\n",
    "5. Activate the environment.  For me that would be `source <venv>/bin/activate`\n",
    "6. `pip install -e .`"
   ],
   "id": "95404f41546d2cdb"
  },
  {
   "metadata": {},
   "cell_type": "markdown",
   "source": "## The Analysis Code",
   "id": "2e1bf18bbe310fa9"
  },
  {
   "metadata": {},
   "cell_type": "markdown",
   "source": "This below code pulls in the historical dividend annoucements or events as I like to call them and figures out what the latest dividend per share is and what is the current frequency via the frequency map.",
   "id": "9d27ec7bf0c9f473"
  },
  {
   "metadata": {
    "ExecuteTime": {
     "end_time": "2024-12-15T02:32:19.053958Z",
     "start_time": "2024-12-15T02:32:18.921377Z"
    }
   },
   "cell_type": "code",
   "source": [
    "frequency_map = {12: \"Monthly\", 4: \"Quarterly\", 1: \"Yearly\"}\n",
    "div_events = gather_dividends(symbol, start, end)\n",
    "current_event = div_events.iloc[-1]\n",
    "dividend_period = current_event[\"frequency\"]\n",
    "f\"Latest dividend is {current_event[\"cash_amount\"]}. Dividends are paid {frequency_map.get(current_event[\"frequency\"])}\""
   ],
   "id": "f893ff9ef50b94a4",
   "outputs": [
    {
     "data": {
      "text/plain": [
       "'Latest dividend is 0.43. Dividends are paid Quarterly'"
      ]
     },
     "execution_count": 8,
     "metadata": {},
     "output_type": "execute_result"
    }
   ],
   "execution_count": 8
  },
  {
   "metadata": {},
   "cell_type": "markdown",
   "source": "The next code block is a function that trims off any extra dividend events past the `end_date`",
   "id": "9e9f7f5366852e35"
  },
  {
   "metadata": {
    "ExecuteTime": {
     "end_time": "2024-12-15T02:32:19.065939Z",
     "start_time": "2024-12-15T02:32:19.063702Z"
    }
   },
   "cell_type": "code",
   "source": [
    "def trim_div_events(df, end):\n",
    "    future_events = df[df.index > pd.to_datetime(end)].index\n",
    "    return df.drop(future_events)"
   ],
   "id": "2ec8198cab0c9b6e",
   "outputs": [],
   "execution_count": 9
  },
  {
   "metadata": {},
   "cell_type": "markdown",
   "source": "This codeblock retrieves the Open, Close, High, Low (OHLC) prices from (Finance Yahoo)[https://finance.yahoo.com/].  YFinance is a Python package that screen scrapes from (Finance Yahoo)[https://finance.yahoo.com/].  I created an account on the website just so it gets some value back from me.  It is a good and for the most part, free stock data repository.  Once the prices are downloaded, the index is converted from text to a timestamp in the US/Eastern timezone.  This can be adjusted at the top of this notebook.",
   "id": "fa1e52785a9849fc"
  },
  {
   "metadata": {
    "ExecuteTime": {
     "end_time": "2024-12-15T02:32:20.801350Z",
     "start_time": "2024-12-15T02:32:19.071401Z"
    }
   },
   "cell_type": "code",
   "source": [
    "ticker = yf.Ticker(symbol)\n",
    "prices = ticker.history(start=start, end=end)\n",
    "prices.index = pd.to_datetime(prices.index)\n",
    "prices.index = prices.index.tz_convert(timezone)"
   ],
   "id": "e53194c6934de696",
   "outputs": [],
   "execution_count": 10
  },
  {
   "metadata": {},
   "cell_type": "markdown",
   "source": [
    "## Creating a Dividend Snowball\n",
    "Being able to figure out what a dividend stock investment will grow when the dividends are re-invested are an important part of the analysis process.  I will have comments in the code to point out what is happening."
   ],
   "id": "85bf14b73f9da862"
  },
  {
   "metadata": {
    "ExecuteTime": {
     "end_time": "2024-12-15T02:51:23.415580Z",
     "start_time": "2024-12-15T02:51:23.394672Z"
    }
   },
   "cell_type": "code",
   "source": [
    "def dividend_snowball(prices, div_events, initial_cash=10000):\n",
    "    # The next two following lines makes sure the indexes align for both the dividend events and stock price data.\n",
    "    # The index of the dividend events are already set to the pay date so the analysis can reflect how a DRIP would work.\n",
    "    # Note that I am only interested in the dividend events right now.\n",
    "    dividend_dates = div_events.index.unique().tolist()\n",
    "    bought_stock = prices.loc[prices.index.isin(dividend_dates)]\n",
    "\n",
    "    bought_stock = bought_stock.merge(\n",
    "        div_events, left_index=True, right_index=True, how=\"left\"\n",
    "    )\n",
    "    # The only two pieces of information that is needed is the cash amount of the dividend and the closing price.\n",
    "    # The price can be other than the closing price and one would set that here.\n",
    "    bought_stock = bought_stock[[\"Close\", \"cash_amount\"]]\n",
    "\n",
    "    # These two lines simulate the initial buy of a stock.\n",
    "    initial_quantity = initial_cash / prices.iloc[0][\"Close\"]\n",
    "    initial_total_div = initial_quantity * bought_stock.iloc[0][\"cash_amount\"]\n",
    "\n",
    "    # This is setting up a list of pd.Series objects that will be used to keep track of the growing snowball.\n",
    "    # This initial entry is based on the values calcuated above.\n",
    "    columns = [\"quantity\", \"total_dividend\", \"Date\"]\n",
    "    values = [\n",
    "        pd.Series(\n",
    "            [\n",
    "                initial_quantity + initial_total_div / bought_stock.iloc[0][\"Close\"],\n",
    "                initial_total_div,\n",
    "                bought_stock.iloc[0].name,\n",
    "            ],\n",
    "            index=columns,\n",
    "        )\n",
    "    ]\n",
    "    # I know using a for loop is a No-no using DataFrames.  Pandas does not make it easy to get ahold of the prior\n",
    "    # row of data and I need that to know how to calculate the snowball.  Note the range, it starts with 1 instead of zero.\n",
    "    for index in range(1, len(bought_stock)):\n",
    "        current_row = bought_stock.iloc[index]\n",
    "        dividend = current_row[\"cash_amount\"]\n",
    "        # Get the quantity from the last dividend event\n",
    "        last_quantity = values[-1][\"quantity\"]\n",
    "        # The amount of cash on the pay date depends on how much one already owns\n",
    "        total_dividend = dividend * last_quantity\n",
    "        # Then more shares are bought and added to the already owned shares.\n",
    "        quantity = last_quantity + total_dividend / current_row[\"Close\"]\n",
    "        values.append(\n",
    "            pd.Series([quantity, total_dividend, current_row.name], index=columns)\n",
    "        )\n",
    "\n",
    "    # Turn the list of pd.Series objects into a DataFrame so it can be visualized\n",
    "    final_df = pd.DataFrame(values)\n",
    "    final_df.set_index(\"Date\", inplace=True)\n",
    "    # Merge the Dataframe with the prices Dataframe to pull in the prices.\n",
    "    final_df = prices[[\"Close\"]].merge(\n",
    "        final_df, left_index=True, right_index=True, how=\"outer\"\n",
    "    )\n",
    "\n",
    "    # The next section of code fills back in the missing quantities.\n",
    "\n",
    "    # This portion fills back in the initial quanity bought in the beginning\n",
    "    final_df.iloc[0, final_df.columns.get_loc(\"quantity\")] = initial_quantity\n",
    "    quantity = final_df.iloc[0][\"quantity\"]\n",
    "    final_df.loc[final_df.index < dividend_dates[0], \"quantity\"] = quantity\n",
    "\n",
    "    # This loops through the dividend pay dates and fills in the quantities for that block of dates\n",
    "    for index, start_date in enumerate(dividend_dates[:-1]):\n",
    "        end_date = dividend_dates[index + 1]\n",
    "        quantity = final_df.loc[start_date][\"quantity\"]\n",
    "        date_filter = (start_date < final_df.index) & (final_df.index < end_date)\n",
    "        try:\n",
    "            # This sets the quantity for all the records that the date_filter selects\n",
    "            final_df.loc[date_filter, \"quantity\"] = quantity\n",
    "        except ValueError as ve:\n",
    "            print(\n",
    "                f\"index {index}, start_date:{start_date}, end_date: {end_date}, quantity: {quantity}\"\n",
    "            )\n",
    "            raise ve\n",
    "    # This sets the quantity for the last set of days after the last dividend event.\n",
    "    quantity = final_df.loc[dividend_dates[-1]][\"quantity\"]\n",
    "    final_df.loc[final_df.index > dividend_dates[-1], \"quantity\"] = quantity\n",
    "    return final_df\n",
    "\n",
    "div_events = trim_div_events(div_events, end)\n",
    "snowball = dividend_snowball(prices, div_events, initial_cash)\n",
    "# This sets the position value\n",
    "snowball[\"value\"] = snowball[\"Close\"] * snowball[\"quantity\"]"
   ],
   "id": "2b7cc2c302b623f9",
   "outputs": [],
   "execution_count": 41
  },
  {
   "metadata": {
    "ExecuteTime": {
     "end_time": "2024-12-15T02:51:28.399297Z",
     "start_time": "2024-12-15T02:51:28.396155Z"
    }
   },
   "cell_type": "code",
   "source": [
    "def create_approach_summary(name, final_value, initial_cash, cash_in_bank):\n",
    "    profit = final_value - initial_cash\n",
    "    gain = profit / initial_cash * 100\n",
    "    total_profit = profit + cash_in_bank\n",
    "    total_gain = total_profit / initial_cash * 100\n",
    "    return pd.Series(\n",
    "        [\n",
    "            name,\n",
    "            round(final_value, 2),\n",
    "            round(profit, 2),\n",
    "            round(gain, 2),\n",
    "            round(cash_in_bank, 2),\n",
    "            round(total_profit, 2),\n",
    "            round(total_gain, 2),\n",
    "        ],\n",
    "        index=[\n",
    "            \"Approach\",\n",
    "            \"Final Market Amount($)\",\n",
    "            \"Market Profit($)\",\n",
    "            \"Market Gain(%)\",\n",
    "            \"Cash Kept($)\",\n",
    "            \"Total Profit($)\",\n",
    "            \"Total Gain(%)\",\n",
    "        ],\n",
    "    )\n"
   ],
   "id": "7f6a93ac228fa3e",
   "outputs": [],
   "execution_count": 42
  },
  {
   "metadata": {
    "ExecuteTime": {
     "end_time": "2024-12-15T02:51:31.557535Z",
     "start_time": "2024-12-15T02:51:31.554487Z"
    }
   },
   "cell_type": "code",
   "source": [
    "def dividend_keep_the_cash(prices, div_events, initial_cash):\n",
    "    dividends_gathered = prices[[\"Close\"]].merge(\n",
    "        div_events[[\"cash_amount\"]], left_index=True, right_index=True, how=\"outer\"\n",
    "    )\n",
    "    dividends_gathered = dividends_gathered[[\"Close\", \"cash_amount\"]]\n",
    "    dividends_gathered[\"quantity\"] = initial_cash / prices.iloc[0][\"Close\"]\n",
    "    dividends_gathered[\"total_dividend\"] = (\n",
    "        dividends_gathered[\"cash_amount\"] * dividends_gathered[\"quantity\"]\n",
    "    )\n",
    "    dividends_gathered[\"value\"] = (\n",
    "        dividends_gathered[\"Close\"] * dividends_gathered[\"quantity\"]\n",
    "    )\n",
    "    return dividends_gathered"
   ],
   "id": "2d158b047360c5d8",
   "outputs": [],
   "execution_count": 43
  },
  {
   "metadata": {
    "ExecuteTime": {
     "end_time": "2024-12-15T02:51:34.516130Z",
     "start_time": "2024-12-15T02:51:34.513952Z"
    }
   },
   "cell_type": "code",
   "source": "approaches = []",
   "id": "3e3e1938b2783bdd",
   "outputs": [],
   "execution_count": 44
  },
  {
   "metadata": {
    "ExecuteTime": {
     "end_time": "2024-12-15T02:51:36.242952Z",
     "start_time": "2024-12-15T02:51:36.237179Z"
    }
   },
   "cell_type": "code",
   "source": [
    "final_value = snowball.iloc[-1].value\n",
    "approaches.append(create_approach_summary(\"Reinvest Dividends\", final_value, initial_cash , 0.0))\n",
    "dividends_gathered = dividend_keep_the_cash(prices, div_events, initial_cash)\n",
    "final_value = dividends_gathered.iloc[-1].value\n",
    "cash_in_bank = dividends_gathered.total_dividend.sum()\n",
    "approaches.append(create_approach_summary(\"Keep the Cash\", final_value, initial_cash, cash_in_bank))"
   ],
   "id": "40f8e1003070b8c2",
   "outputs": [],
   "execution_count": 45
  },
  {
   "cell_type": "code",
   "id": "1e344567b1c130af",
   "metadata": {
    "ExecuteTime": {
     "end_time": "2024-12-15T02:52:09.963635Z",
     "start_time": "2024-12-15T02:52:09.874119Z"
    }
   },
   "source": [
    "plt.plot(snowball.index, snowball['value'], label='Reinvest Dividends')\n",
    "plt.plot(dividends_gathered.index, dividends_gathered['value'], label='Keep the Cash')\n",
    "plt.title = f\"Ten year performance {symbol}\"\n",
    "plt.legend()\n",
    "plt.show()"
   ],
   "outputs": [
    {
     "data": {
      "text/plain": [
       "<Figure size 640x480 with 1 Axes>"
      ],
      "image/png": "[encoded data removed]"
     },
     "metadata": {},
     "output_type": "display_data"
    }
   ],
   "execution_count": 48
  },
  {
   "cell_type": "code",
   "id": "8612522f947feeb4",
   "metadata": {
    "ExecuteTime": {
     "end_time": "2024-12-15T02:52:15.652909Z",
     "start_time": "2024-12-15T02:52:15.645625Z"
    }
   },
   "source": [
    "pd.DataFrame(approaches).set_index(\"Approach\")"
   ],
   "outputs": [
    {
     "data": {
      "text/plain": [
       "                    Final Market Amount($)  Market Profit($)  Market Gain(%)  \\\n",
       "Approach                                                                       \n",
       "Reinvest Dividends               291241.19         281241.19         2812.41   \n",
       "Keep the Cash                     57038.47          47038.47          470.38   \n",
       "\n",
       "                    Cash Kept($)  Total Profit($)  Total Gain(%)  \n",
       "Approach                                                          \n",
       "Reinvest Dividends           0.0        281241.19        2812.41  \n",
       "Keep the Cash            45749.2         92787.67         927.88  "
      ],
      "text/html": [
       "<div>\n",
       "<style scoped>\n",
       "    .dataframe tbody tr th:only-of-type {\n",
       "        vertical-align: middle;\n",
       "    }\n",
       "\n",
       "    .dataframe tbody tr th {\n",
       "        vertical-align: top;\n",
       "    }\n",
       "\n",
       "    .dataframe thead th {\n",
       "        text-align: right;\n",
       "    }\n",
       "</style>\n",
       "<table border=\"1\" class=\"dataframe\">\n",
       "  <thead>\n",
       "    <tr style=\"text-align: right;\">\n",
       "      <th></th>\n",
       "      <th>Final Market Amount($)</th>\n",
       "      <th>Market Profit($)</th>\n",
       "      <th>Market Gain(%)</th>\n",
       "      <th>Cash Kept($)</th>\n",
       "      <th>Total Profit($)</th>\n",
       "      <th>Total Gain(%)</th>\n",
       "    </tr>\n",
       "    <tr>\n",
       "      <th>Approach</th>\n",
       "      <th></th>\n",
       "      <th></th>\n",
       "      <th></th>\n",
       "      <th></th>\n",
       "      <th></th>\n",
       "      <th></th>\n",
       "    </tr>\n",
       "  </thead>\n",
       "  <tbody>\n",
       "    <tr>\n",
       "      <th>Reinvest Dividends</th>\n",
       "      <td>291241.19</td>\n",
       "      <td>281241.19</td>\n",
       "      <td>2812.41</td>\n",
       "      <td>0.0</td>\n",
       "      <td>281241.19</td>\n",
       "      <td>2812.41</td>\n",
       "    </tr>\n",
       "    <tr>\n",
       "      <th>Keep the Cash</th>\n",
       "      <td>57038.47</td>\n",
       "      <td>47038.47</td>\n",
       "      <td>470.38</td>\n",
       "      <td>45749.2</td>\n",
       "      <td>92787.67</td>\n",
       "      <td>927.88</td>\n",
       "    </tr>\n",
       "  </tbody>\n",
       "</table>\n",
       "</div>"
      ]
     },
     "execution_count": 49,
     "metadata": {},
     "output_type": "execute_result"
    }
   ],
   "execution_count": 49
  }
 ],
 "metadata": {
  "kernelspec": {
   "display_name": "Python 3 (ipykernel)",
   "language": "python",
   "name": "python3"
  },
  "language_info": {
   "codemirror_mode": {
    "name": "ipython",
    "version": 3
   },
   "file_extension": ".py",
   "mimetype": "text/x-python",
   "name": "python",
   "nbconvert_exporter": "python",
   "pygments_lexer": "ipython3",
   "version": "3.12.4"
  }
 },
 "nbformat": 4,
 "nbformat_minor": 5
}
